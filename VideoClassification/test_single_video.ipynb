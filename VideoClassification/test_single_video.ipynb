{
 "cells": [
  {
   "cell_type": "code",
   "execution_count": 1,
   "metadata": {},
   "outputs": [],
   "source": [
    "import os\n",
    "import cv2\n",
    "import time\n",
    "import numpy as np\n",
    "import numpy as np\n",
    "import os\n",
    "import cv2\n",
    "import keras\n",
    "import sklearn\n",
    "import pandas\n",
    "from time import time\n",
    "from sklearn.model_selection import train_test_split\n",
    "from keras.models import Sequential\n",
    "from keras.utils import to_categorical\n",
    "from keras.models import load_model\n",
    "from keras.layers import *\n",
    "from keras import layers\n",
    "from keras import Model\n",
    "from keras.callbacks import TensorBoard\n",
    "from keras import optimizers\n",
    "import matplotlib.pyplot as plt\n",
    "from keras.applications import *\n",
    "from sklearn.metrics import classification_report\n",
    "import time\n",
    "from keras.models import load_model\n",
    "from sklearn.metrics import confusion_matrix\n",
    "from keras.applications.resnet50 import preprocess_input\n",
    "from keras.applications import *\n",
    "from keras import regularizers"
   ]
  },
  {
   "cell_type": "code",
   "execution_count": 94,
   "metadata": {},
   "outputs": [],
   "source": [
    "v_path = r\"F:\\violent_video_tagging\\violence-video-classification\\data\\single_video_frames\\violent\\\\\"\n",
    "nv_path = r\"F:\\violent_video_tagging\\violence-video-classification\\data\\single_video_frames\\non_violent\\\\\"\n",
    "\n",
    "# v_path = r\"F:\\violent_video_tagging\\violence-video-classification\\data\\final\\train\\violent\\\\\"\n",
    "# nv_path = r\"F:\\violent_video_tagging\\violence-video-classification\\data\\final\\train\\non_violent\\\\\""
   ]
  },
  {
   "cell_type": "code",
   "execution_count": 103,
   "metadata": {},
   "outputs": [],
   "source": [
    "violent_frames = []\n",
    "non_violent_frames = []\n",
    "\n",
    "for frame in os.listdir(v_path):\n",
    "    frame = cv2.imread(os.path.join(v_path,frame))\n",
    "    violent_frames.append(frame)\n",
    "\n",
    "\n",
    "for frame in os.listdir(nv_path):\n",
    "    frame = cv2.imread(os.path.join(nv_path,frame))\n",
    "    non_violent_frames.append(frame)"
   ]
  },
  {
   "cell_type": "code",
   "execution_count": 104,
   "metadata": {},
   "outputs": [],
   "source": [
    "#Creates sequence \n",
    "# SHAPE : (N_SAMPLES,TIMESTEP,WIDTH,HEIGHT,CHANNEL)\n",
    "def create_seq(violent_frames, non_violent_frames):\n",
    "    \n",
    "    print(\"+++ Creating Sequence... +++\")\n",
    "    \n",
    "    violent_vid = []\n",
    "    non_violent_vid = []\n",
    "\n",
    "    i = 0\n",
    "    while i < len(violent_frames):\n",
    "        violent_vid.append(violent_frames[i:i+30])\n",
    "        i = i+30\n",
    "\n",
    "\n",
    "    i = 0\n",
    "    while i < len(non_violent_frames):\n",
    "        non_violent_vid.append(non_violent_frames[i:i+30])\n",
    "        i = i+30\n",
    "    try:   \n",
    "        violent_vid = np.asarray(violent_vid)\n",
    "    except:\n",
    "        violent_vid = violent_vid.reshape(0,0,0,0,0)\n",
    "    try:\n",
    "        non_violent_vid = np.asarray(non_violent_vid)\n",
    "    except:\n",
    "        non_violent_vid = non_violent_vid.reshape(0,0,0,0,0)\n",
    "    \n",
    "    return violent_vid, non_violent_vid\n"
   ]
  },
  {
   "cell_type": "code",
   "execution_count": 105,
   "metadata": {},
   "outputs": [],
   "source": [
    "def result(x,y):\n",
    "    \n",
    "    print(\"+++ Generating result... +++\")\n",
    "    \n",
    "    pred = model.predict(x)\n",
    "#     print('First prediction:', pred)\n",
    "    \n",
    "    score = model.evaluate(x, y,verbose=1)\n",
    "    print(\"-----------------------------\")\n",
    "    print('Test loss:', score[0])\n",
    "    print('Test accuracy:', score[1])\n",
    "    \n",
    "    prediction = []\n",
    "    for p in pred:\n",
    "        if p>=.5:\n",
    "            prediction.append(1)\n",
    "        else:\n",
    "            prediction.append(0)\n",
    "    print(\"-----------------------------\")\n",
    "    print(\"Classification report\")\n",
    "    print(\"-----------------------------\")\n",
    "    print(classification_report(y, prediction))\n",
    "    \n",
    "    print(\"-----------------------------\")\n",
    "    print(\"Confusion Matrix\")\n",
    "    print(\"-----------------------------\")\n",
    "    conf_mat = confusion_matrix(y, prediction)\n",
    "    print(conf_mat)\n",
    "    "
   ]
  },
  {
   "cell_type": "code",
   "execution_count": 106,
   "metadata": {},
   "outputs": [],
   "source": [
    "def preprocess_lstm(features):\n",
    "    \n",
    "    print(\"+++ Preprocessing data... +++\")\n",
    "    try:\n",
    "        violent_features = features[0:30*math.floor(violent_frames.shape[0]/30)]\n",
    "    except:\n",
    "        pass\n",
    "    try:\n",
    "        non_violent_features = features[violent_frames.shape[0]:violent_frames.shape[0]+30*math.floor(non_violent_frames.shape[0]/30)]\n",
    "    except:\n",
    "        pass\n",
    "\n",
    "    print(\"Violent features: \", violent_features.shape)\n",
    "    print(\"Non Violent features: \", non_violent_features.shape)\n",
    "\n",
    "\n",
    "    violent_vid,non_violent_vid = create_seq(violent_features, non_violent_features)\n",
    "    violent_y, non_violent_y = np.zeros(len(violent_vid)), np.ones(len(non_violent_vid))\n",
    "\n",
    "    print(\"Violent Video Seq: \", violent_vid.shape,\"Non_violent video Seq: \", non_violent_vid.shape)\n",
    "    print(\"Violent Label: \", violent_y.shape, \"Non_violent Label: \", non_violent_y.shape)\n",
    "\n",
    "    try:\n",
    "        test_x = np.vstack((violent_vid,non_violent_vid))\n",
    "        test_y = np.append(violent_y, non_violent_y)\n",
    "    except:\n",
    "        test_x = non_violent_vid\n",
    "        test_y = non_violent_y\n",
    "\n",
    "    print(\"Total data: \", test_x.shape)\n",
    "    print(\"Total target: \", test_y.shape)\n",
    "\n",
    "    test_x = np.reshape(test_x, (test_x.shape[0],test_x.shape[1],np.prod(test_x.shape[2:])))\n",
    "    print(\"(LSTM) After Rehshape: \", test_x.shape)\n",
    "    \n",
    "    return test_x,test_y"
   ]
  },
  {
   "cell_type": "code",
   "execution_count": 107,
   "metadata": {},
   "outputs": [],
   "source": [
    "def feature_extract(violent_frames, non_violent_frames, model):\n",
    "    \n",
    "    print(\"+++ Extracting feature... +++\")\n",
    "    \n",
    "    violent_frames = np.asarray(violent_frames)\n",
    "    non_violent_frames = np.asarray(non_violent_frames)\n",
    "\n",
    "    print (\"Before Feature extraction: \")\n",
    "    print(violent_frames.shape,non_violent_frames.shape)\n",
    "    all_data = np.vstack((violent_frames,non_violent_frames))\n",
    "    print(\"Adding all data: \", all_data.shape)\n",
    "\n",
    "    #creates feature descriptors\n",
    "    all_data = all_data.astype('float64')\n",
    "    desc = preprocess_input(all_data)\n",
    "    if(model == 'resnet50'):\n",
    "        loaded_model = resnet50.ResNet50(input_shape=(224,224,3), include_top=False)\n",
    "    elif(model == 'vgg19'):\n",
    "        loaded_model = VGG19(input_shape=(224,224,3), include_top=False)\n",
    "    elif(model == 'vgg16'):\n",
    "        loaded_model = VGG16(input_shape=(224,224,3), include_top=False)\n",
    "    else:\n",
    "        print(\"Please give model name - 'resnet50', 'vgg19', 'vgg16'\")\n",
    "        \n",
    "    loaded_model = Model(loaded_model.input,loaded_model.output)\n",
    "    features = loaded_model.predict(desc,batch_size=10,verbose=1)\n",
    "\n",
    "    print (\"After Feature extraction: \", features.shape)\n",
    "    \n",
    "    return features"
   ]
  },
  {
   "cell_type": "code",
   "execution_count": 108,
   "metadata": {},
   "outputs": [
    {
     "name": "stdout",
     "output_type": "stream",
     "text": [
      "+++ Extracting feature... +++\n",
      "Before Feature extraction: \n",
      "(3587, 224, 224, 3) (2660, 224, 224, 3)\n",
      "Adding all data:  (6247, 224, 224, 3)\n"
     ]
    }
   ],
   "source": [
    "print(\"+++ Extracting feature... +++\")\n",
    "\n",
    "\n",
    "violent_frames = np.asarray(violent_frames)\n",
    "non_violent_frames = np.asarray(non_violent_frames)\n",
    "\n",
    "#violent_frames = violent_frames.reshape((0,0,0,0))\n",
    "\n",
    "\n",
    "# try:\n",
    "#     print(violent_frames.shape[3])\n",
    "# except:\n",
    "#     violent_frames = violent_frames.reshape(0,0,0,0)\n",
    "    \n",
    "# try:\n",
    "#     print(non_violent_frames.shape[3])\n",
    "# except:\n",
    "#     non_violent_frames = non_violent_frames.reshape(0,0,0,0)\n",
    "    \n",
    "print (\"Before Feature extraction: \")\n",
    "print(violent_frames.shape,non_violent_frames.shape)\n",
    "\n",
    "\n",
    "#all_data = np.vstack((violent_frames,non_violent_frames))\n",
    "try:\n",
    "    all_data = np.vstack((violent_frames,non_violent_frames))\n",
    "except:\n",
    "    if non_violent_frames.shape[0]!=0:\n",
    "        all_data = non_violent_frames\n",
    "    else:\n",
    "        all_data = violent_frames\n",
    "print(\"Adding all data: \", all_data.shape)\n",
    "\n",
    "#creates feature descriptors\n",
    "all_data = all_data.astype('float64')\n",
    "desc = preprocess_input(all_data)\n",
    "model = 'resnet50'\n",
    "if(model == 'resnet50'):\n",
    "    loaded_model = resnet50.ResNet50(input_shape=(224,224,3), include_top=False)\n",
    "elif(model == 'vgg19'):\n",
    "    loaded_model = VGG19(input_shape=(224,224,3), include_top=False)\n",
    "elif(model == 'vgg16'):\n",
    "    loaded_model = VGG16(input_shape=(224,224,3), include_top=False)\n",
    "else:\n",
    "    print(\"Please give model name - 'resnet50', 'vgg19', 'vgg16'\")"
   ]
  },
  {
   "cell_type": "code",
   "execution_count": 109,
   "metadata": {},
   "outputs": [
    {
     "name": "stdout",
     "output_type": "stream",
     "text": [
      "63/63 [==============================] - 1335s 21s/step\n",
      "After Feature extraction:  (6247, 7, 7, 2048)\n"
     ]
    }
   ],
   "source": [
    "\n",
    "loaded_model = Model(loaded_model.input,loaded_model.output)\n",
    "features = loaded_model.predict(desc,batch_size=100,verbose=1)\n",
    "\n",
    "print (\"After Feature extraction: \", features.shape)"
   ]
  },
  {
   "cell_type": "code",
   "execution_count": 110,
   "metadata": {},
   "outputs": [
    {
     "name": "stdout",
     "output_type": "stream",
     "text": [
      "+++ Preprocessing data... +++\n",
      "Violent features:  (3570, 7, 7, 2048)\n",
      "Non Violent features:  (2640, 7, 7, 2048)\n",
      "+++ Creating Sequence... +++\n",
      "Violent Video Seq:  (119, 30, 7, 7, 2048) Non_violent video Seq:  (88, 30, 7, 7, 2048)\n",
      "Violent Label:  (119,) Non_violent Label:  (88,)\n",
      "Total data:  (207, 30, 7, 7, 2048)\n",
      "Total target:  (207,)\n",
      "(LSTM) After Rehshape:  (207, 30, 100352)\n"
     ]
    }
   ],
   "source": [
    "import math\n",
    "test_x, test_y = preprocess_lstm(features)"
   ]
  },
  {
   "cell_type": "code",
   "execution_count": 111,
   "metadata": {},
   "outputs": [
    {
     "name": "stdout",
     "output_type": "stream",
     "text": [
      "Model: \"sequential_14\"\n",
      "_________________________________________________________________\n",
      "Layer (type)                 Output Shape              Param #   \n",
      "=================================================================\n",
      "lstm_14 (LSTM)               (None, 50)                20080600  \n",
      "_________________________________________________________________\n",
      "dense_14 (Dense)             (None, 1)                 51        \n",
      "=================================================================\n",
      "Total params: 20,080,651\n",
      "Trainable params: 20,080,651\n",
      "Non-trainable params: 0\n",
      "_________________________________________________________________\n"
     ]
    }
   ],
   "source": [
    "model = Sequential()\n",
    "model.add(LSTM(50, input_shape=(test_x.shape[1],test_x.shape[2]), return_sequences=False, kernel_regularizer=regularizers.l2(0.01)))\n",
    "model.add(Dense(1,activation='sigmoid'))\n",
    "model.load_weights('resnet_LSTM_v1.h5')\n",
    "model.summary()\n",
    "optimizer = optimizers.Adam(lr=0.001,decay=0.004)\n",
    "model.compile(loss=\"binary_crossentropy\",optimizer=optimizer,metrics=[\"accuracy\"])"
   ]
  },
  {
   "cell_type": "code",
   "execution_count": 112,
   "metadata": {},
   "outputs": [
    {
     "name": "stdout",
     "output_type": "stream",
     "text": [
      "+++ Generating result... +++\n",
      "7/7 [==============================] - 30s 4s/step - loss: 0.5143 - accuracy: 0.8116\n",
      "-----------------------------\n",
      "Test loss: 0.5142815709114075\n",
      "Test accuracy: 0.8115941882133484\n",
      "-----------------------------\n",
      "Classification report\n",
      "-----------------------------\n",
      "              precision    recall  f1-score   support\n",
      "\n",
      "         0.0       0.97      0.70      0.81       119\n",
      "         1.0       0.70      0.97      0.81        88\n",
      "\n",
      "    accuracy                           0.81       207\n",
      "   macro avg       0.83      0.83      0.81       207\n",
      "weighted avg       0.85      0.81      0.81       207\n",
      "\n",
      "-----------------------------\n",
      "Confusion Matrix\n",
      "-----------------------------\n",
      "[[83 36]\n",
      " [ 3 85]]\n"
     ]
    }
   ],
   "source": [
    "result(test_x,test_y)"
   ]
  },
  {
   "cell_type": "code",
   "execution_count": 113,
   "metadata": {},
   "outputs": [
    {
     "name": "stdout",
     "output_type": "stream",
     "text": [
      "Model: \"sequential_15\"\n",
      "_________________________________________________________________\n",
      "Layer (type)                 Output Shape              Param #   \n",
      "=================================================================\n",
      "lstm_15 (LSTM)               (None, 50)                20080600  \n",
      "_________________________________________________________________\n",
      "dense_15 (Dense)             (None, 1)                 51        \n",
      "=================================================================\n",
      "Total params: 20,080,651\n",
      "Trainable params: 20,080,651\n",
      "Non-trainable params: 0\n",
      "_________________________________________________________________\n"
     ]
    }
   ],
   "source": [
    "model = Sequential()\n",
    "model.add(LSTM(50, input_shape=(test_x.shape[1],test_x.shape[2]), return_sequences=False, kernel_regularizer=regularizers.l2(0.01)))\n",
    "model.add(Dense(1,activation='sigmoid'))\n",
    "model.load_weights('resnet_LSTM_v3.h5')\n",
    "model.summary()\n",
    "optimizer = optimizers.Adam(lr=0.001,decay=0.004)\n",
    "model.compile(loss=\"binary_crossentropy\",optimizer=optimizer,metrics=[\"accuracy\"])"
   ]
  },
  {
   "cell_type": "code",
   "execution_count": 114,
   "metadata": {},
   "outputs": [
    {
     "name": "stdout",
     "output_type": "stream",
     "text": [
      "+++ Generating result... +++\n",
      "7/7 [==============================] - 30s 4s/step - loss: 0.9266 - accuracy: 0.6425\n",
      "-----------------------------\n",
      "Test loss: 0.9266251921653748\n",
      "Test accuracy: 0.6425120830535889\n",
      "-----------------------------\n",
      "Classification report\n",
      "-----------------------------\n",
      "              precision    recall  f1-score   support\n",
      "\n",
      "         0.0       0.89      0.43      0.58       119\n",
      "         1.0       0.55      0.93      0.69        88\n",
      "\n",
      "    accuracy                           0.64       207\n",
      "   macro avg       0.72      0.68      0.63       207\n",
      "weighted avg       0.75      0.64      0.63       207\n",
      "\n",
      "-----------------------------\n",
      "Confusion Matrix\n",
      "-----------------------------\n",
      "[[51 68]\n",
      " [ 6 82]]\n"
     ]
    }
   ],
   "source": [
    "result(test_x,test_y)"
   ]
  },
  {
   "cell_type": "code",
   "execution_count": 80,
   "metadata": {},
   "outputs": [
    {
     "name": "stdout",
     "output_type": "stream",
     "text": [
      "Model: \"sequential_9\"\n",
      "_________________________________________________________________\n",
      "Layer (type)                 Output Shape              Param #   \n",
      "=================================================================\n",
      "lstm_9 (LSTM)                (None, 100)               40181200  \n",
      "_________________________________________________________________\n",
      "dense_9 (Dense)              (None, 1)                 101       \n",
      "=================================================================\n",
      "Total params: 40,181,301\n",
      "Trainable params: 40,181,301\n",
      "Non-trainable params: 0\n",
      "_________________________________________________________________\n"
     ]
    }
   ],
   "source": [
    "model = Sequential()\n",
    "model.add(LSTM(100, input_shape=(test_x.shape[1],test_x.shape[2]), return_sequences=False, kernel_regularizer=regularizers.l2(0.01)))\n",
    "model.add(Dense(1,activation='sigmoid'))\n",
    "model.load_weights('resnet_LSTM_v2.h5')\n",
    "model.summary()\n",
    "optimizer = optimizers.Adam(lr=0.001,decay=0.004)\n",
    "model.compile(loss=\"binary_crossentropy\",optimizer=optimizer,metrics=[\"accuracy\"])"
   ]
  },
  {
   "cell_type": "code",
   "execution_count": 81,
   "metadata": {},
   "outputs": [
    {
     "name": "stdout",
     "output_type": "stream",
     "text": [
      "+++ Generating result... +++\n",
      "2/2 [==============================] - 0s 202ms/step - loss: 0.2099 - accuracy: 0.9048\n",
      "-----------------------------\n",
      "Test loss: 0.20985019207000732\n",
      "Test accuracy: 0.9047619104385376\n",
      "-----------------------------\n",
      "Classification report\n",
      "-----------------------------\n",
      "              precision    recall  f1-score   support\n",
      "\n",
      "         0.0       0.90      0.90      0.90        21\n",
      "         1.0       0.90      0.90      0.90        21\n",
      "\n",
      "    accuracy                           0.90        42\n",
      "   macro avg       0.90      0.90      0.90        42\n",
      "weighted avg       0.90      0.90      0.90        42\n",
      "\n",
      "-----------------------------\n",
      "Confusion Matrix\n",
      "-----------------------------\n",
      "[[19  2]\n",
      " [ 2 19]]\n"
     ]
    }
   ],
   "source": [
    "result(test_x,test_y)"
   ]
  },
  {
   "cell_type": "code",
   "execution_count": 82,
   "metadata": {},
   "outputs": [
    {
     "name": "stdout",
     "output_type": "stream",
     "text": [
      "Model: \"sequential_10\"\n",
      "_________________________________________________________________\n",
      "Layer (type)                 Output Shape              Param #   \n",
      "=================================================================\n",
      "lstm_10 (LSTM)               (None, 50)                20080600  \n",
      "_________________________________________________________________\n",
      "dense_10 (Dense)             (None, 1)                 51        \n",
      "=================================================================\n",
      "Total params: 20,080,651\n",
      "Trainable params: 20,080,651\n",
      "Non-trainable params: 0\n",
      "_________________________________________________________________\n"
     ]
    }
   ],
   "source": [
    "model = Sequential()\n",
    "model.add(LSTM(50, input_shape=(test_x.shape[1],test_x.shape[2]), return_sequences=False, kernel_regularizer=regularizers.l2(0.01)))\n",
    "model.add(Dense(1,activation='sigmoid'))\n",
    "model.load_weights('resnet_LSTM_v1.h5')\n",
    "model.summary()\n",
    "optimizer = optimizers.Adam(lr=0.001,decay=0.004)\n",
    "model.compile(loss=\"binary_crossentropy\",optimizer=optimizer,metrics=[\"accuracy\"])"
   ]
  },
  {
   "cell_type": "code",
   "execution_count": 83,
   "metadata": {},
   "outputs": [
    {
     "name": "stdout",
     "output_type": "stream",
     "text": [
      "+++ Generating result... +++\n",
      "2/2 [==============================] - 0s 137ms/step - loss: 0.1404 - accuracy: 1.0000\n",
      "-----------------------------\n",
      "Test loss: 0.14040739834308624\n",
      "Test accuracy: 1.0\n",
      "-----------------------------\n",
      "Classification report\n",
      "-----------------------------\n",
      "              precision    recall  f1-score   support\n",
      "\n",
      "         0.0       1.00      1.00      1.00        21\n",
      "         1.0       1.00      1.00      1.00        21\n",
      "\n",
      "    accuracy                           1.00        42\n",
      "   macro avg       1.00      1.00      1.00        42\n",
      "weighted avg       1.00      1.00      1.00        42\n",
      "\n",
      "-----------------------------\n",
      "Confusion Matrix\n",
      "-----------------------------\n",
      "[[21  0]\n",
      " [ 0 21]]\n"
     ]
    }
   ],
   "source": [
    "result(test_x,test_y)"
   ]
  },
  {
   "cell_type": "code",
   "execution_count": 88,
   "metadata": {},
   "outputs": [
    {
     "name": "stdout",
     "output_type": "stream",
     "text": [
      "Model: \"sequential_11\"\n",
      "_________________________________________________________________\n",
      "Layer (type)                 Output Shape              Param #   \n",
      "=================================================================\n",
      "lstm_11 (LSTM)               (None, 100)               40181200  \n",
      "_________________________________________________________________\n",
      "dense_11 (Dense)             (None, 1)                 101       \n",
      "=================================================================\n",
      "Total params: 40,181,301\n",
      "Trainable params: 40,181,301\n",
      "Non-trainable params: 0\n",
      "_________________________________________________________________\n"
     ]
    }
   ],
   "source": [
    "model = Sequential()\n",
    "model.add(LSTM(100, input_shape=(test_x.shape[1],test_x.shape[2]), return_sequences=False, kernel_regularizer=regularizers.l2(0.01)))\n",
    "model.add(Dense(1,activation='sigmoid'))\n",
    "model.load_weights('resnet_LSTM_v2.h5')\n",
    "model.summary()\n",
    "optimizer = optimizers.Adam(lr=0.001,decay=0.004)\n",
    "model.compile(loss=\"binary_crossentropy\",optimizer=optimizer,metrics=[\"accuracy\"])"
   ]
  },
  {
   "cell_type": "code",
   "execution_count": 89,
   "metadata": {},
   "outputs": [
    {
     "name": "stdout",
     "output_type": "stream",
     "text": [
      "+++ Generating result... +++\n",
      "19/19 [==============================] - 38s 2s/step - loss: 1.8649 - accuracy: 0.4959\n",
      "-----------------------------\n",
      "Test loss: 1.8648954629898071\n",
      "Test accuracy: 0.49585404992103577\n",
      "-----------------------------\n",
      "Classification report\n",
      "-----------------------------\n",
      "              precision    recall  f1-score   support\n",
      "\n",
      "         0.0       0.10      0.94      0.18        36\n",
      "         1.0       0.99      0.47      0.64       567\n",
      "\n",
      "    accuracy                           0.50       603\n",
      "   macro avg       0.55      0.71      0.41       603\n",
      "weighted avg       0.94      0.50      0.61       603\n",
      "\n",
      "-----------------------------\n",
      "Confusion Matrix\n",
      "-----------------------------\n",
      "[[ 34   2]\n",
      " [302 265]]\n"
     ]
    }
   ],
   "source": [
    "result(test_x,test_y)"
   ]
  },
  {
   "cell_type": "code",
   "execution_count": 90,
   "metadata": {},
   "outputs": [
    {
     "name": "stdout",
     "output_type": "stream",
     "text": [
      "Model: \"sequential_12\"\n",
      "_________________________________________________________________\n",
      "Layer (type)                 Output Shape              Param #   \n",
      "=================================================================\n",
      "lstm_12 (LSTM)               (None, 50)                20080600  \n",
      "_________________________________________________________________\n",
      "dense_12 (Dense)             (None, 1)                 51        \n",
      "=================================================================\n",
      "Total params: 20,080,651\n",
      "Trainable params: 20,080,651\n",
      "Non-trainable params: 0\n",
      "_________________________________________________________________\n"
     ]
    }
   ],
   "source": [
    "model = Sequential()\n",
    "model.add(LSTM(50, input_shape=(test_x.shape[1],test_x.shape[2]), return_sequences=False, kernel_regularizer=regularizers.l2(0.01)))\n",
    "model.add(Dense(1,activation='sigmoid'))\n",
    "model.load_weights('resnet_LSTM_v1.h5')\n",
    "model.summary()\n",
    "optimizer = optimizers.Adam(lr=0.001,decay=0.004)\n",
    "model.compile(loss=\"binary_crossentropy\",optimizer=optimizer,metrics=[\"accuracy\"])"
   ]
  },
  {
   "cell_type": "code",
   "execution_count": 91,
   "metadata": {},
   "outputs": [
    {
     "name": "stdout",
     "output_type": "stream",
     "text": [
      "+++ Generating result... +++\n",
      "19/19 [==============================] - 27s 1s/step - loss: 0.8191 - accuracy: 0.7081\n",
      "-----------------------------\n",
      "Test loss: 0.8190941214561462\n",
      "Test accuracy: 0.7081260085105896\n",
      "-----------------------------\n",
      "Classification report\n",
      "-----------------------------\n",
      "              precision    recall  f1-score   support\n",
      "\n",
      "         0.0       0.17      1.00      0.29        36\n",
      "         1.0       1.00      0.69      0.82       567\n",
      "\n",
      "    accuracy                           0.71       603\n",
      "   macro avg       0.58      0.84      0.55       603\n",
      "weighted avg       0.95      0.71      0.78       603\n",
      "\n",
      "-----------------------------\n",
      "Confusion Matrix\n",
      "-----------------------------\n",
      "[[ 36   0]\n",
      " [176 391]]\n"
     ]
    }
   ],
   "source": [
    "result(test_x,test_y)"
   ]
  },
  {
   "cell_type": "code",
   "execution_count": 92,
   "metadata": {},
   "outputs": [
    {
     "name": "stdout",
     "output_type": "stream",
     "text": [
      "Model: \"sequential_13\"\n",
      "_________________________________________________________________\n",
      "Layer (type)                 Output Shape              Param #   \n",
      "=================================================================\n",
      "lstm_13 (LSTM)               (None, 50)                20080600  \n",
      "_________________________________________________________________\n",
      "dense_13 (Dense)             (None, 1)                 51        \n",
      "=================================================================\n",
      "Total params: 20,080,651\n",
      "Trainable params: 20,080,651\n",
      "Non-trainable params: 0\n",
      "_________________________________________________________________\n"
     ]
    }
   ],
   "source": [
    "model = Sequential()\n",
    "model.add(LSTM(50, input_shape=(test_x.shape[1],test_x.shape[2]), return_sequences=False, kernel_regularizer=regularizers.l2(0.01)))\n",
    "model.add(Dense(1,activation='sigmoid'))\n",
    "model.load_weights('resnet_LSTM_v3.h5')\n",
    "model.summary()\n",
    "optimizer = optimizers.Adam(lr=0.001,decay=0.004)\n",
    "model.compile(loss=\"binary_crossentropy\",optimizer=optimizer,metrics=[\"accuracy\"])"
   ]
  },
  {
   "cell_type": "code",
   "execution_count": 93,
   "metadata": {},
   "outputs": [
    {
     "name": "stdout",
     "output_type": "stream",
     "text": [
      "+++ Generating result... +++\n",
      "19/19 [==============================] - 29s 2s/step - loss: 1.0589 - accuracy: 0.6153\n",
      "-----------------------------\n",
      "Test loss: 1.058946132659912\n",
      "Test accuracy: 0.6152570247650146\n",
      "-----------------------------\n",
      "Classification report\n",
      "-----------------------------\n",
      "              precision    recall  f1-score   support\n",
      "\n",
      "         0.0       0.12      0.89      0.22        36\n",
      "         1.0       0.99      0.60      0.75       567\n",
      "\n",
      "    accuracy                           0.62       603\n",
      "   macro avg       0.56      0.74      0.48       603\n",
      "weighted avg       0.94      0.62      0.71       603\n",
      "\n",
      "-----------------------------\n",
      "Confusion Matrix\n",
      "-----------------------------\n",
      "[[ 32   4]\n",
      " [228 339]]\n"
     ]
    }
   ],
   "source": [
    "result(test_x,test_y)"
   ]
  },
  {
   "cell_type": "code",
   "execution_count": 31,
   "metadata": {},
   "outputs": [
    {
     "name": "stdout",
     "output_type": "stream",
     "text": [
      "Model: \"sequential_5\"\n",
      "_________________________________________________________________\n",
      "Layer (type)                 Output Shape              Param #   \n",
      "=================================================================\n",
      "lstm_5 (LSTM)                (None, 50)                20080600  \n",
      "_________________________________________________________________\n",
      "dense_5 (Dense)              (None, 1)                 51        \n",
      "=================================================================\n",
      "Total params: 20,080,651\n",
      "Trainable params: 20,080,651\n",
      "Non-trainable params: 0\n",
      "_________________________________________________________________\n"
     ]
    }
   ],
   "source": [
    "model = Sequential()\n",
    "model.add(LSTM(50, input_shape=(test_x.shape[1],test_x.shape[2]), return_sequences=False, kernel_regularizer=regularizers.l2(0.01)))\n",
    "model.add(Dense(1,activation='sigmoid'))\n",
    "model.load_weights('resnet_LSTM.h5')\n",
    "model.summary()\n",
    "optimizer = optimizers.Adam(lr=0.001,decay=0.004)\n",
    "model.compile(loss=\"binary_crossentropy\",optimizer=optimizer,metrics=[\"accuracy\"])"
   ]
  },
  {
   "cell_type": "code",
   "execution_count": 32,
   "metadata": {},
   "outputs": [
    {
     "name": "stdout",
     "output_type": "stream",
     "text": [
      "+++ Generating result... +++\n",
      "25/25 [==============================] - 7s 281ms/step - loss: 0.6929 - accuracy: 0.7235\n",
      "-----------------------------\n",
      "Test loss: 0.6929287910461426\n",
      "Test accuracy: 0.7234848737716675\n",
      "-----------------------------\n",
      "Classification report\n",
      "-----------------------------\n",
      "              precision    recall  f1-score   support\n",
      "\n",
      "         0.0       0.93      0.73      0.81       660\n",
      "         1.0       0.34      0.71      0.46       132\n",
      "\n",
      "    accuracy                           0.72       792\n",
      "   macro avg       0.63      0.72      0.64       792\n",
      "weighted avg       0.83      0.72      0.76       792\n",
      "\n",
      "-----------------------------\n",
      "Confusion Matrix\n",
      "-----------------------------\n",
      "[[479 181]\n",
      " [ 38  94]]\n"
     ]
    }
   ],
   "source": [
    "result(test_x,test_y)"
   ]
  },
  {
   "cell_type": "code",
   "execution_count": 28,
   "metadata": {},
   "outputs": [
    {
     "name": "stdout",
     "output_type": "stream",
     "text": [
      "+++ Generating result... +++\n",
      "25/25 [==============================] - 8s 313ms/step - loss: 0.6929 - accuracy: 0.7235\n",
      "-----------------------------\n",
      "Test loss: 0.6929287910461426\n",
      "Test accuracy: 0.7234848737716675\n",
      "-----------------------------\n",
      "Classification report\n",
      "-----------------------------\n",
      "              precision    recall  f1-score   support\n",
      "\n",
      "         0.0       0.93      0.73      0.81       660\n",
      "         1.0       0.34      0.71      0.46       132\n",
      "\n",
      "    accuracy                           0.72       792\n",
      "   macro avg       0.63      0.72      0.64       792\n",
      "weighted avg       0.83      0.72      0.76       792\n",
      "\n",
      "-----------------------------\n",
      "Confusion Matrix\n",
      "-----------------------------\n",
      "[[479 181]\n",
      " [ 38  94]]\n"
     ]
    }
   ],
   "source": [
    "result(test_x,test_y)"
   ]
  },
  {
   "cell_type": "code",
   "execution_count": 12,
   "metadata": {},
   "outputs": [
    {
     "name": "stdout",
     "output_type": "stream",
     "text": [
      "+++ Generating result... +++\n",
      "5/5 [==============================] - 1s 134ms/step - loss: 0.7443 - accuracy: 0.7121\n",
      "-----------------------------\n",
      "Test loss: 0.7442625761032104\n",
      "Test accuracy: 0.7121211886405945\n",
      "-----------------------------\n",
      "Classification report\n",
      "-----------------------------\n",
      "              precision    recall  f1-score   support\n",
      "\n",
      "         0.0       0.00      0.00      0.00         0\n",
      "         1.0       1.00      0.71      0.83       132\n",
      "\n",
      "    accuracy                           0.71       132\n",
      "   macro avg       0.50      0.36      0.42       132\n",
      "weighted avg       1.00      0.71      0.83       132\n",
      "\n",
      "-----------------------------\n",
      "Confusion Matrix\n",
      "-----------------------------\n",
      "[[ 0  0]\n",
      " [38 94]]\n"
     ]
    },
    {
     "name": "stderr",
     "output_type": "stream",
     "text": [
      "c:\\users\\administrator\\appdata\\local\\programs\\python\\python38\\lib\\site-packages\\sklearn\\metrics\\_classification.py:1221: UndefinedMetricWarning: Recall and F-score are ill-defined and being set to 0.0 in labels with no true samples. Use `zero_division` parameter to control this behavior.\n",
      "  _warn_prf(average, modifier, msg_start, len(result))\n"
     ]
    }
   ],
   "source": [
    "result(test_x,test_y)"
   ]
  },
  {
   "cell_type": "code",
   "execution_count": null,
   "metadata": {},
   "outputs": [],
   "source": []
  }
 ],
 "metadata": {
  "kernelspec": {
   "display_name": "Python 3",
   "language": "python",
   "name": "python3"
  },
  "language_info": {
   "codemirror_mode": {
    "name": "ipython",
    "version": 3
   },
   "file_extension": ".py",
   "mimetype": "text/x-python",
   "name": "python",
   "nbconvert_exporter": "python",
   "pygments_lexer": "ipython3",
   "version": "3.8.6"
  }
 },
 "nbformat": 4,
 "nbformat_minor": 4
}
