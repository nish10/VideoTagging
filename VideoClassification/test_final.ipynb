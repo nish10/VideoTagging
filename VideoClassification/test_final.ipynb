{
 "cells": [
  {
   "cell_type": "code",
   "execution_count": 1,
   "metadata": {},
   "outputs": [],
   "source": [
    "import os\n",
    "import cv2\n",
    "import time\n",
    "import numpy as np\n",
    "import numpy as np\n",
    "import os\n",
    "import cv2\n",
    "import keras\n",
    "import sklearn\n",
    "import pandas\n",
    "from time import time\n",
    "from sklearn.model_selection import train_test_split\n",
    "from keras.models import Sequential\n",
    "from keras.utils import to_categorical\n",
    "from keras.models import load_model\n",
    "from keras.layers import *\n",
    "from keras import layers\n",
    "from keras import Model\n",
    "from keras.callbacks import TensorBoard\n",
    "from keras import optimizers\n",
    "import matplotlib.pyplot as plt\n",
    "from keras.applications import *\n",
    "from sklearn.metrics import classification_report\n",
    "import time\n",
    "from keras.models import load_model\n",
    "from sklearn.metrics import confusion_matrix\n",
    "from keras.applications.resnet50 import preprocess_input\n",
    "from keras.applications import *\n",
    "from keras import regularizers"
   ]
  },
  {
   "cell_type": "code",
   "execution_count": 81,
   "metadata": {},
   "outputs": [],
   "source": [
    "v_path = r\"F:\\violent_video_tagging\\violence-video-classification\\data\\new_test_frames\\violent\\\\\"\n",
    "nv_path = r\"F:\\violent_video_tagging\\violence-video-classification\\data\\new_test_frames\\non_violent\\\\\"\n",
    "\n",
    "# v_path = r\"F:\\violent_video_tagging\\violence-video-classification\\data\\final\\train\\violent\\\\\"\n",
    "# nv_path = r\"F:\\violent_video_tagging\\violence-video-classification\\data\\final\\train\\non_violent\\\\\""
   ]
  },
  {
   "cell_type": "code",
   "execution_count": 82,
   "metadata": {},
   "outputs": [],
   "source": [
    "violent_frames = []\n",
    "non_violent_frames = []\n",
    "\n",
    "for frame in os.listdir(v_path):\n",
    "    frame = cv2.imread(os.path.join(v_path,frame))\n",
    "    violent_frames.append(frame)\n",
    "\n",
    "\n",
    "for frame in os.listdir(nv_path):\n",
    "    frame = cv2.imread(os.path.join(nv_path,frame))\n",
    "    non_violent_frames.append(frame)"
   ]
  },
  {
   "cell_type": "code",
   "execution_count": 71,
   "metadata": {},
   "outputs": [
    {
     "data": {
      "text/plain": [
       "(224, 224, 3)"
      ]
     },
     "execution_count": 71,
     "metadata": {},
     "output_type": "execute_result"
    }
   ],
   "source": [
    "violent_frames[0].shape"
   ]
  },
  {
   "cell_type": "code",
   "execution_count": 72,
   "metadata": {},
   "outputs": [],
   "source": [
    "#Creates sequence \n",
    "# SHAPE : (N_SAMPLES,TIMESTEP,WIDTH,HEIGHT,CHANNEL)\n",
    "def create_seq(violent_frames, non_violent_frames):\n",
    "    \n",
    "    print(\"+++ Creating Sequence... +++\")\n",
    "    \n",
    "    violent_vid = []\n",
    "    non_violent_vid = []\n",
    "\n",
    "    i = 0\n",
    "    while i < len(violent_frames):\n",
    "        violent_vid.append(violent_frames[i:i+10])\n",
    "        i = i+10\n",
    "\n",
    "\n",
    "    i = 0\n",
    "    while i < len(non_violent_frames):\n",
    "        non_violent_vid.append(non_violent_frames[i:i+10])\n",
    "        i = i+10\n",
    "        \n",
    "    violent_vid = np.asarray(violent_vid)\n",
    "    non_violent_vid = np.asarray(non_violent_vid)\n",
    "    \n",
    "    return violent_vid, non_violent_vid\n"
   ]
  },
  {
   "cell_type": "code",
   "execution_count": 73,
   "metadata": {},
   "outputs": [],
   "source": [
    "def result(x,y):\n",
    "    \n",
    "    print(\"+++ Generating result... +++\")\n",
    "    \n",
    "    pred = model.predict(x)\n",
    "#     print('First prediction:', pred)\n",
    "    \n",
    "    score = model.evaluate(x, y,verbose=1)\n",
    "    print(\"-----------------------------\")\n",
    "    print('Test loss:', score[0])\n",
    "    print('Test accuracy:', score[1])\n",
    "    \n",
    "    prediction = []\n",
    "    for p in pred:\n",
    "        if p>=.5:\n",
    "            prediction.append(1)\n",
    "        else:\n",
    "            prediction.append(0)\n",
    "    print(\"-----------------------------\")\n",
    "    print(\"Classification report\")\n",
    "    print(\"-----------------------------\")\n",
    "    print(classification_report(y, prediction))\n",
    "    \n",
    "    print(\"-----------------------------\")\n",
    "    print(\"Confusion Matrix\")\n",
    "    print(\"-----------------------------\")\n",
    "    conf_mat = confusion_matrix(y, prediction)\n",
    "    print(conf_mat)\n",
    "    "
   ]
  },
  {
   "cell_type": "code",
   "execution_count": 74,
   "metadata": {},
   "outputs": [],
   "source": [
    "def preprocess_lstm(features):\n",
    "    \n",
    "    print(\"+++ Preprocessing data... +++\")\n",
    "    \n",
    "    violent_features = features[0:30*math.floor(violent_frames.shape[0]/30)]\n",
    "    non_violent_features = features[violent_frames.shape[0]:violent_frames.shape[0]+30*math.floor(non_violent_frames.shape[0]/30)]\n",
    "\n",
    "\n",
    "    print(\"Violent features: \", violent_features.shape)\n",
    "    print(\"Non Violent features: \", non_violent_features.shape)\n",
    "\n",
    "\n",
    "    violent_vid,non_violent_vid = create_seq(violent_features, non_violent_features)\n",
    "    violent_y, non_violent_y = np.zeros(len(violent_vid)), np.ones(len(non_violent_vid))\n",
    "\n",
    "    print(\"Violent Video Seq: \", violent_vid.shape,\"Non_violent video Seq: \", non_violent_vid.shape)\n",
    "    print(\"Violent Label: \", violent_y.shape, \"Non_violent Label: \", non_violent_y.shape)\n",
    "\n",
    "    try:\n",
    "        test_x = np.vstack((violent_vid,non_violent_vid))\n",
    "        test_y = np.append(violent_y, non_violent_y)\n",
    "    except:\n",
    "        test_x = non_violent_vid\n",
    "        test_y = non_violent_y\n",
    "\n",
    "    print(\"Total data: \", test_x.shape)\n",
    "    print(\"Total target: \", test_y.shape)\n",
    "\n",
    "    test_x = np.reshape(test_x, (test_x.shape[0],test_x.shape[1],np.prod(test_x.shape[2:])))\n",
    "    print(\"(LSTM) After Rehshape: \", test_x.shape)\n",
    "    \n",
    "    return test_x,test_y"
   ]
  },
  {
   "cell_type": "code",
   "execution_count": 75,
   "metadata": {},
   "outputs": [],
   "source": [
    "def feature_extract(violent_frames, non_violent_frames, model):\n",
    "    \n",
    "    print(\"+++ Extracting feature... +++\")\n",
    "    \n",
    "    violent_frames = np.asarray(violent_frames)\n",
    "    non_violent_frames = np.asarray(non_violent_frames)\n",
    "\n",
    "    print (\"Before Feature extraction: \")\n",
    "    print(violent_frames.shape,non_violent_frames.shape)\n",
    "    all_data = np.vstack((violent_frames,non_violent_frames))\n",
    "    print(\"Adding all data: \", all_data.shape)\n",
    "\n",
    "    #creates feature descriptors\n",
    "    all_data = all_data.astype('float64')\n",
    "    desc = preprocess_input(all_data)\n",
    "    if(model == 'resnet50'):\n",
    "        loaded_model = resnet50.ResNet50(input_shape=(224,224,3), include_top=False)\n",
    "    elif(model == 'vgg19'):\n",
    "        loaded_model = VGG19(input_shape=(224,224,3), include_top=False)\n",
    "    elif(model == 'vgg16'):\n",
    "        loaded_model = VGG16(input_shape=(224,224,3), include_top=False)\n",
    "    else:\n",
    "        print(\"Please give model name - 'resnet50', 'vgg19', 'vgg16'\")\n",
    "        \n",
    "    loaded_model = Model(loaded_model.input,loaded_model.output)\n",
    "    features = loaded_model.predict(desc,batch_size=10,verbose=1)\n",
    "\n",
    "    print (\"After Feature extraction: \", features.shape)\n",
    "    \n",
    "    return features"
   ]
  },
  {
   "cell_type": "code",
   "execution_count": 83,
   "metadata": {},
   "outputs": [
    {
     "name": "stdout",
     "output_type": "stream",
     "text": [
      "+++ Extracting feature... +++\n",
      "Before Feature extraction: \n",
      "(1142, 224, 224, 3) (1129, 224, 224, 3)\n",
      "Adding all data:  (2271, 224, 224, 3)\n"
     ]
    }
   ],
   "source": [
    "print(\"+++ Extracting feature... +++\")\n",
    "\n",
    "violent_frames = np.asarray(violent_frames)\n",
    "non_violent_frames = np.asarray(non_violent_frames)\n",
    "\n",
    "# violent_frames = violent_frames.reshape((0,0,0,0))\n",
    "\n",
    "print (\"Before Feature extraction: \")\n",
    "print(violent_frames.shape,non_violent_frames.shape)\n",
    "\n",
    "\n",
    "try:\n",
    "    all_data = np.vstack((violent_frames,non_violent_frames))\n",
    "except:\n",
    "    all_data = non_violent_frames\n",
    "print(\"Adding all data: \", all_data.shape)\n",
    "\n",
    "#creates feature descriptors\n",
    "all_data = all_data.astype('float64')\n",
    "desc = preprocess_input(all_data)\n",
    "model = 'resnet50'\n",
    "if(model == 'resnet50'):\n",
    "    loaded_model = resnet50.ResNet50(input_shape=(224,224,3), include_top=False)\n",
    "elif(model == 'vgg19'):\n",
    "    loaded_model = VGG19(input_shape=(224,224,3), include_top=False)\n",
    "elif(model == 'vgg16'):\n",
    "    loaded_model = VGG16(input_shape=(224,224,3), include_top=False)\n",
    "else:\n",
    "    print(\"Please give model name - 'resnet50', 'vgg19', 'vgg16'\")"
   ]
  },
  {
   "cell_type": "code",
   "execution_count": 84,
   "metadata": {},
   "outputs": [
    {
     "name": "stdout",
     "output_type": "stream",
     "text": [
      "228/228 [==============================] - 192s 841ms/step\n",
      "After Feature extraction:  (2271, 7, 7, 2048)\n"
     ]
    }
   ],
   "source": [
    "\n",
    "loaded_model = Model(loaded_model.input,loaded_model.output)\n",
    "features = loaded_model.predict(desc,batch_size=10,verbose=1)\n",
    "\n",
    "print (\"After Feature extraction: \", features.shape)"
   ]
  },
  {
   "cell_type": "code",
   "execution_count": 85,
   "metadata": {},
   "outputs": [
    {
     "name": "stdout",
     "output_type": "stream",
     "text": [
      "+++ Preprocessing data... +++\n",
      "Violent features:  (1140, 7, 7, 2048)\n",
      "Non Violent features:  (1110, 7, 7, 2048)\n",
      "+++ Creating Sequence... +++\n",
      "Violent Video Seq:  (114, 10, 7, 7, 2048) Non_violent video Seq:  (111, 10, 7, 7, 2048)\n",
      "Violent Label:  (114,) Non_violent Label:  (111,)\n",
      "Total data:  (225, 10, 7, 7, 2048)\n",
      "Total target:  (225,)\n",
      "(LSTM) After Rehshape:  (225, 10, 100352)\n"
     ]
    }
   ],
   "source": [
    "import math\n",
    "test_x, test_y = preprocess_lstm(features)"
   ]
  },
  {
   "cell_type": "code",
   "execution_count": 65,
   "metadata": {},
   "outputs": [
    {
     "name": "stdout",
     "output_type": "stream",
     "text": [
      "+++ Preprocessing data... +++\n",
      "Violent features:  (120, 7, 7, 2048)\n",
      "Non Violent features:  (1110, 7, 7, 2048)\n",
      "+++ Creating Sequence... +++\n",
      "Violent Video Seq:  (12, 10, 7, 7, 2048) Non_violent video Seq:  (111, 10, 7, 7, 2048)\n",
      "Violent Label:  (12,) Non_violent Label:  (111,)\n",
      "Total data:  (123, 10, 7, 7, 2048)\n",
      "Total target:  (123,)\n",
      "(LSTM) After Rehshape:  (123, 10, 100352)\n"
     ]
    }
   ],
   "source": [
    "import math\n",
    "test_x, test_y = preprocess_lstm(features)"
   ]
  },
  {
   "cell_type": "code",
   "execution_count": 86,
   "metadata": {},
   "outputs": [
    {
     "name": "stdout",
     "output_type": "stream",
     "text": [
      "Model: \"sequential_7\"\n",
      "_________________________________________________________________\n",
      "Layer (type)                 Output Shape              Param #   \n",
      "=================================================================\n",
      "lstm_7 (LSTM)                (None, 50)                20080600  \n",
      "_________________________________________________________________\n",
      "dense_7 (Dense)              (None, 1)                 51        \n",
      "=================================================================\n",
      "Total params: 20,080,651\n",
      "Trainable params: 20,080,651\n",
      "Non-trainable params: 0\n",
      "_________________________________________________________________\n"
     ]
    }
   ],
   "source": [
    "model = Sequential()\n",
    "model.add(LSTM(50, input_shape=(test_x.shape[1],test_x.shape[2]), return_sequences=False, kernel_regularizer=regularizers.l2(0.01)))\n",
    "model.add(Dense(1,activation='sigmoid'))\n",
    "model.load_weights('resnet_LSTM.h5')\n",
    "model.summary()\n",
    "optimizer = optimizers.Adam(lr=0.001,decay=0.004)\n",
    "model.compile(loss=\"binary_crossentropy\",optimizer=optimizer,metrics=[\"accuracy\"])"
   ]
  },
  {
   "cell_type": "code",
   "execution_count": 87,
   "metadata": {},
   "outputs": [
    {
     "name": "stdout",
     "output_type": "stream",
     "text": [
      "+++ Generating result... +++\n",
      "8/8 [==============================] - 2s 246ms/step - loss: 0.9603 - accuracy: 0.6044\n",
      "-----------------------------\n",
      "Test loss: 0.9602927565574646\n",
      "Test accuracy: 0.6044444441795349\n",
      "-----------------------------\n",
      "Classification report\n",
      "-----------------------------\n",
      "              precision    recall  f1-score   support\n",
      "\n",
      "         0.0       1.00      0.22      0.36       114\n",
      "         1.0       0.56      1.00      0.71       111\n",
      "\n",
      "    accuracy                           0.60       225\n",
      "   macro avg       0.78      0.61      0.54       225\n",
      "weighted avg       0.78      0.60      0.53       225\n",
      "\n",
      "-----------------------------\n",
      "Confusion Matrix\n",
      "-----------------------------\n",
      "[[ 25  89]\n",
      " [  0 111]]\n"
     ]
    }
   ],
   "source": [
    "result(test_x,test_y)"
   ]
  },
  {
   "cell_type": "code",
   "execution_count": 67,
   "metadata": {},
   "outputs": [
    {
     "name": "stdout",
     "output_type": "stream",
     "text": [
      "+++ Generating result... +++\n",
      "4/4 [==============================] - 1s 255ms/step - loss: 0.6966 - accuracy: 0.7480\n",
      "-----------------------------\n",
      "Test loss: 0.6965609788894653\n",
      "Test accuracy: 0.7479674816131592\n",
      "-----------------------------\n",
      "Classification report\n",
      "-----------------------------\n",
      "              precision    recall  f1-score   support\n",
      "\n",
      "         0.0       0.28      1.00      0.44        12\n",
      "         1.0       1.00      0.72      0.84       111\n",
      "\n",
      "    accuracy                           0.75       123\n",
      "   macro avg       0.64      0.86      0.64       123\n",
      "weighted avg       0.93      0.75      0.80       123\n",
      "\n",
      "-----------------------------\n",
      "Confusion Matrix\n",
      "-----------------------------\n",
      "[[12  0]\n",
      " [31 80]]\n"
     ]
    }
   ],
   "source": [
    "result(test_x,test_y)"
   ]
  },
  {
   "cell_type": "code",
   "execution_count": null,
   "metadata": {},
   "outputs": [],
   "source": []
  }
 ],
 "metadata": {
  "kernelspec": {
   "display_name": "Python 3",
   "language": "python",
   "name": "python3"
  },
  "language_info": {
   "codemirror_mode": {
    "name": "ipython",
    "version": 3
   },
   "file_extension": ".py",
   "mimetype": "text/x-python",
   "name": "python",
   "nbconvert_exporter": "python",
   "pygments_lexer": "ipython3",
   "version": "3.8.6"
  }
 },
 "nbformat": 4,
 "nbformat_minor": 4
}
