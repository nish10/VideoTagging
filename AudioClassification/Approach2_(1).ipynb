{
  "nbformat": 4,
  "nbformat_minor": 0,
  "metadata": {
    "accelerator": "GPU",
    "colab": {
      "name": "Approach2 (1).ipynb",
      "provenance": [],
      "collapsed_sections": []
    },
    "kernelspec": {
      "display_name": "Python 3",
      "language": "python",
      "name": "python3"
    },
    "language_info": {
      "codemirror_mode": {
        "name": "ipython",
        "version": 3
      },
      "file_extension": ".py",
      "mimetype": "text/x-python",
      "name": "python",
      "nbconvert_exporter": "python",
      "pygments_lexer": "ipython3",
      "version": "3.8.3"
    }
  },
  "cells": [
    {
      "cell_type": "code",
      "metadata": {
        "id": "-lMUaXq_yYYk"
      },
      "source": [
        "# Import Library and code\n",
        "import pandas as pd\n",
        "import numpy as np\n",
        "import re\n",
        "import nltk\n",
        "from nltk.tokenize import word_tokenize\n",
        "from nltk.tokenize import sent_tokenize,word_tokenize\n",
        "from nltk.corpus import stopwords\n",
        "from nltk.stem import WordNetLemmatizer\n",
        "from gensim.models import KeyedVectors\n",
        "from sklearn.model_selection import train_test_split,cross_val_score,GridSearchCV,RandomizedSearchCV\n",
        "from sklearn.metrics import classification_report,confusion_matrix\n",
        "from sklearn.ensemble import RandomForestClassifier\n",
        "from sklearn.linear_model import LogisticRegression\n",
        "from sklearn.neighbors import KNeighborsClassifier\n",
        "from sklearn.svm import SVC\n",
        "from xgboost import XGBClassifier\n",
        "from sklearn.ensemble import AdaBoostClassifier\n",
        "from sklearn.model_selection import train_test_split\n",
        "import pickle\n",
        "from keras.models import Model, model_from_json"
      ],
      "execution_count": 9,
      "outputs": []
    },
    {
      "cell_type": "code",
      "metadata": {
        "colab": {
          "base_uri": "https://localhost:8080/"
        },
        "id": "HoELcbJmgXNj",
        "outputId": "3dccd935-89f7-445f-f919-a1df75aae3b5"
      },
      "source": [
        "!nvidia-smi"
      ],
      "execution_count": 21,
      "outputs": [
        {
          "output_type": "stream",
          "text": [
            "Fri Apr  9 11:00:00 2021       \n",
            "+-----------------------------------------------------------------------------+\n",
            "| NVIDIA-SMI 460.67       Driver Version: 460.32.03    CUDA Version: 11.2     |\n",
            "|-------------------------------+----------------------+----------------------+\n",
            "| GPU  Name        Persistence-M| Bus-Id        Disp.A | Volatile Uncorr. ECC |\n",
            "| Fan  Temp  Perf  Pwr:Usage/Cap|         Memory-Usage | GPU-Util  Compute M. |\n",
            "|                               |                      |               MIG M. |\n",
            "|===============================+======================+======================|\n",
            "|   0  Tesla T4            Off  | 00000000:00:04.0 Off |                    0 |\n",
            "| N/A   39C    P8     9W /  70W |      0MiB / 15109MiB |      0%      Default |\n",
            "|                               |                      |                  N/A |\n",
            "+-------------------------------+----------------------+----------------------+\n",
            "                                                                               \n",
            "+-----------------------------------------------------------------------------+\n",
            "| Processes:                                                                  |\n",
            "|  GPU   GI   CI        PID   Type   Process name                  GPU Memory |\n",
            "|        ID   ID                                                   Usage      |\n",
            "|=============================================================================|\n",
            "|  No running processes found                                                 |\n",
            "+-----------------------------------------------------------------------------+\n"
          ],
          "name": "stdout"
        }
      ]
    },
    {
      "cell_type": "code",
      "metadata": {
        "id": "D1_dnW1tgZx9"
      },
      "source": [
        "import pandas as pd\n",
        "data=pd.read_csv(r\"/content/sample_data/final_dataset.csv\")\n",
        "#data['target'] = data['target'].map({0:0, 4:1})\n",
        "data.dropna(axis=0,inplace=True)"
      ],
      "execution_count": 22,
      "outputs": []
    },
    {
      "cell_type": "code",
      "metadata": {
        "id": "8nBcytxpy0yR"
      },
      "source": [
        "def preprocess(tweet):\n",
        "    tweet = re.sub('@[^\\s]+','',str(tweet))\n",
        "    tweet = re.sub(r'#', '', str(tweet))\n",
        "    tweet= re.sub('((www\\.[^\\s]+)|(https?://[^\\s]+))','',str(tweet))    # Removing URLS\n",
        "    tweet = re.sub('[^a-zA-Z]',' ',str(tweet))   #removing all punchuation and special character\n",
        "    tweet = re.sub('[\\s]+', ' ', str(tweet))  #removing extra white space\n",
        "    tweet = re.sub('[\\n]+', ' ', str(tweet))\n",
        "    tweet = re.sub(r\"[8:=;]['`\\-]?p+\", ' ', str(tweet))\n",
        "    tweet = re.sub(r\"[8:=;]['`\\-]?[\\/|l*]\", ' ', str(tweet))\n",
        "    tweet = re.sub(r\"[8:=;]['`\\-]?\\(+\", ' ', str(tweet))\n",
        "    tweet = re.sub(r\"[8:=;]['`\\-]?[)d]+\", ' ', str(tweet))\n",
        "    tweet = re.sub(\"(.)\\1\\1+\", ' ', str(tweet))\n",
        "    tweet = re.sub(\"\\1\\1\", ' ', str(tweet))\n",
        "    tweet = re.sub(\"@\\S+|https?:\\S+|http?:\\S|[^A-Za-z0-9]+\", ' ', str(tweet).lower())\n",
        "    return tweet\n",
        "data['tweet']= data['tweet'].apply(lambda x:preprocess(x))\n",
        "data1=data"
      ],
      "execution_count": 23,
      "outputs": []
    },
    {
      "cell_type": "code",
      "metadata": {
        "colab": {
          "base_uri": "https://localhost:8080/",
          "height": 204
        },
        "id": "LlApLv5r0L2w",
        "outputId": "1841c2ff-b491-4ee5-b9a6-885e41ee2f29"
      },
      "source": [
        "data1.head()"
      ],
      "execution_count": 24,
      "outputs": [
        {
          "output_type": "execute_result",
          "data": {
            "text/html": [
              "<div>\n",
              "<style scoped>\n",
              "    .dataframe tbody tr th:only-of-type {\n",
              "        vertical-align: middle;\n",
              "    }\n",
              "\n",
              "    .dataframe tbody tr th {\n",
              "        vertical-align: top;\n",
              "    }\n",
              "\n",
              "    .dataframe thead th {\n",
              "        text-align: right;\n",
              "    }\n",
              "</style>\n",
              "<table border=\"1\" class=\"dataframe\">\n",
              "  <thead>\n",
              "    <tr style=\"text-align: right;\">\n",
              "      <th></th>\n",
              "      <th>Unnamed: 0</th>\n",
              "      <th>tweet</th>\n",
              "      <th>label</th>\n",
              "    </tr>\n",
              "  </thead>\n",
              "  <tbody>\n",
              "    <tr>\n",
              "      <th>0</th>\n",
              "      <td>0</td>\n",
              "      <td>what amazing service apple won t even talk to ...</td>\n",
              "      <td>hate</td>\n",
              "    </tr>\n",
              "    <tr>\n",
              "      <th>1</th>\n",
              "      <td>1</td>\n",
              "      <td>ha not heavy machinery but it does what i need...</td>\n",
              "      <td>hate</td>\n",
              "    </tr>\n",
              "    <tr>\n",
              "      <th>2</th>\n",
              "      <td>2</td>\n",
              "      <td>contemplating giving in to the iphone bandwago...</td>\n",
              "      <td>hate</td>\n",
              "    </tr>\n",
              "    <tr>\n",
              "      <th>3</th>\n",
              "      <td>3</td>\n",
              "      <td>the battery is so painful i charge it overnig...</td>\n",
              "      <td>hate</td>\n",
              "    </tr>\n",
              "    <tr>\n",
              "      <th>4</th>\n",
              "      <td>4</td>\n",
              "      <td>the reason i don t have one iphone suck apple ...</td>\n",
              "      <td>hate</td>\n",
              "    </tr>\n",
              "  </tbody>\n",
              "</table>\n",
              "</div>"
            ],
            "text/plain": [
              "   Unnamed: 0                                              tweet label\n",
              "0           0  what amazing service apple won t even talk to ...  hate\n",
              "1           1  ha not heavy machinery but it does what i need...  hate\n",
              "2           2  contemplating giving in to the iphone bandwago...  hate\n",
              "3           3   the battery is so painful i charge it overnig...  hate\n",
              "4           4  the reason i don t have one iphone suck apple ...  hate"
            ]
          },
          "metadata": {
            "tags": []
          },
          "execution_count": 24
        }
      ]
    },
    {
      "cell_type": "code",
      "metadata": {
        "colab": {
          "base_uri": "https://localhost:8080/"
        },
        "id": "MGP1PalrzZ4r",
        "outputId": "d74edb39-17bb-4a66-989f-8392d5249da6"
      },
      "source": [
        "#Performing Text Normalization\n",
        "nltk.download('punkt')\n",
        "nltk.download('wordnet')\n",
        "def token(tweet):\n",
        "    tweet = word_tokenize(tweet)\n",
        "    return tweet\n",
        "data1['tweet']=data1['tweet'].apply(lambda x:token(x))\n",
        "\n",
        "lem = WordNetLemmatizer()\n",
        "def normalize(tweet):\n",
        "    tweet = [lem.lemmatize(word) for word in tweet ]\n",
        "    tweet = ' '.join(tweet)\n",
        "    return tweet\n",
        "\n",
        "data1['tweet']= data1['tweet'].apply(lambda x :normalize(x))\n"
      ],
      "execution_count": 25,
      "outputs": [
        {
          "output_type": "stream",
          "text": [
            "[nltk_data] Downloading package punkt to /root/nltk_data...\n",
            "[nltk_data]   Package punkt is already up-to-date!\n",
            "[nltk_data] Downloading package wordnet to /root/nltk_data...\n",
            "[nltk_data]   Package wordnet is already up-to-date!\n"
          ],
          "name": "stdout"
        }
      ]
    },
    {
      "cell_type": "code",
      "metadata": {
        "id": "zncMhWf2zezL"
      },
      "source": [
        "x_tf=data1['tweet']\n",
        "y_tf=data1['label']"
      ],
      "execution_count": 26,
      "outputs": []
    },
    {
      "cell_type": "code",
      "metadata": {
        "id": "uldBvwk0ggEy"
      },
      "source": [
        "x_tf.dropna(axis=0,inplace=True)\n",
        "y_tf.dropna(axis=0,inplace=True)\n",
        "#x_tf=x_tf.loc[0:177886]\n",
        "y_tf=y_tf.map({\"hate\":1,\"noHate\":0})"
      ],
      "execution_count": 27,
      "outputs": []
    },
    {
      "cell_type": "code",
      "metadata": {
        "id": "6aN0enyezkPJ"
      },
      "source": [
        "X_train, X_test, y_train, y_test = train_test_split(x_tf, y_tf,test_size = 0.35, random_state = 42,stratify=y_tf)"
      ],
      "execution_count": 28,
      "outputs": []
    },
    {
      "cell_type": "code",
      "metadata": {
        "id": "Z4lseOarzqVS"
      },
      "source": [
        "from gensim.models import Word2Vec\n",
        "#from gensim.models.word2vec import Word2Vec\n",
        "#from gensim.models import KeyedVectors\n",
        "#word2vec_model = KeyedVectors.load_word2vec_format(r'D:\\nlp\\GoogleNews-vectors-negative300.bin\\GoogleNews-vectors-negative300.bin', binary=True)\n",
        "train_data = list(map(lambda x: x.split(), X_train))\n",
        "word2vec_model = Word2Vec(train_data,size=100,workers=3,min_count=4)"
      ],
      "execution_count": 29,
      "outputs": []
    },
    {
      "cell_type": "code",
      "metadata": {
        "colab": {
          "base_uri": "https://localhost:8080/"
        },
        "id": "UYgCQvKMzvfw",
        "outputId": "112f17dd-ff53-4cc7-b76c-16b894a6f5e4"
      },
      "source": [
        "input_length = 100 # Model Input Length\n",
        "from tensorflow.keras.preprocessing.text import Tokenizer\n",
        "from tensorflow.keras.preprocessing.sequence import pad_sequences\n",
        "tokenizer = Tokenizer(filters=\"\", lower=False, oov_token=\"<oov>\")\n",
        "tokenizer.fit_on_texts(x_tf)\n",
        "vocab_length = len(tokenizer.word_index) + 1\n",
        "print(\"Tokenizer vocab length:\", vocab_length)\n",
        "X_train = pad_sequences(tokenizer.texts_to_sequences(X_train), maxlen=input_length)\n",
        "X_test  = pad_sequences(tokenizer.texts_to_sequences(X_test) , maxlen=input_length)\n",
        "print(\"X_train.shape:\", X_train.shape)\n",
        "print(\"X_test.shape :\", X_test.shape)"
      ],
      "execution_count": 30,
      "outputs": [
        {
          "output_type": "stream",
          "text": [
            "Tokenizer vocab length: 185296\n",
            "X_train.shape: (284300, 100)\n",
            "X_test.shape : (153086, 100)\n"
          ],
          "name": "stdout"
        }
      ]
    },
    {
      "cell_type": "code",
      "metadata": {
        "colab": {
          "base_uri": "https://localhost:8080/"
        },
        "id": "oLX4dWqn-zyL",
        "outputId": "475cd179-25d8-4324-d76b-0dacc3e120e5"
      },
      "source": [
        "embedding_matrix = np.zeros((vocab_length,100))\n",
        "for word, token in tokenizer.word_index.items():\n",
        "    if word2vec_model.wv.__contains__(word):\n",
        "        embedding_matrix[token] = word2vec_model.wv.__getitem__(word)\n",
        "embedding_matrix.shape"
      ],
      "execution_count": 31,
      "outputs": [
        {
          "output_type": "execute_result",
          "data": {
            "text/plain": [
              "(185296, 100)"
            ]
          },
          "metadata": {
            "tags": []
          },
          "execution_count": 31
        }
      ]
    },
    {
      "cell_type": "code",
      "metadata": {
        "colab": {
          "base_uri": "https://localhost:8080/"
        },
        "id": "ktBEO2cFlOyJ",
        "outputId": "2012b9b6-2180-4875-9881-45cfc9901e12"
      },
      "source": [
        "X_train"
      ],
      "execution_count": 32,
      "outputs": [
        {
          "output_type": "execute_result",
          "data": {
            "text/plain": [
              "array([[    0,     0,     0, ...,    10,  7595,  1167],\n",
              "       [    0,     0,     0, ..., 26768,   201,  9130],\n",
              "       [  109,   810,    32, ..., 17400, 21523,   106],\n",
              "       ...,\n",
              "       [    0,     0,     0, ...,  6351,   653,  1320],\n",
              "       [    0,     0,     0, ...,     7, 36538,   204],\n",
              "       [    0,     0,     0, ...,   156, 11843,   413]], dtype=int32)"
            ]
          },
          "metadata": {
            "tags": []
          },
          "execution_count": 32
        }
      ]
    },
    {
      "cell_type": "code",
      "metadata": {
        "colab": {
          "base_uri": "https://localhost:8080/"
        },
        "id": "1IPm2HM4-3eh",
        "outputId": "9238f1d6-2eac-4df2-b49c-4153703ec90e"
      },
      "source": [
        "from tensorflow.keras import Sequential\n",
        "from tensorflow.keras.callbacks import ModelCheckpoint\n",
        "from tensorflow.keras.layers import Bidirectional, GlobalMaxPool1D, Dense, LSTM, Conv1D, Embedding\n",
        "from tensorflow.keras.callbacks import ReduceLROnPlateau, EarlyStopping\n",
        "\n",
        "def Model():\n",
        "    layer = Embedding(input_dim = 185296,output_dim = 100,weights=[embedding_matrix],input_length=100,trainable=False)\n",
        "    model = Sequential([layer, Bidirectional(LSTM(200, dropout=0.2, return_sequences=True)),\n",
        "        Bidirectional(LSTM(150, dropout=0.3, return_sequences=True)),\n",
        "        Bidirectional(LSTM(100, dropout=0.1, return_sequences=True)),\n",
        "        Conv1D(64, 5, activation='relu'),\n",
        "        GlobalMaxPool1D(),\n",
        "        Dense(50, activation='relu'),\n",
        "        Dense(1, activation='sigmoid'),\n",
        "    ],\n",
        "    name=\"Sentiment_Model\")\n",
        "    return model\n",
        "\n",
        "model_bilstm = Model()\n",
        "model_bilstm.summary()\n",
        "ec= EarlyStopping(monitor='val_loss', min_delta=1e-4, patience=30, mode='min')\n",
        "mc = ModelCheckpoint('best_model.h5', monitor='val_accuracy', mode='max', verbose=1, save_best_only=True)\n",
        "model_bilstm.compile(loss='binary_crossentropy', optimizer='adam', metrics=['accuracy'])\n",
        "history = model_bilstm.fit(X_train, y_train,batch_size=512,epochs=30,validation_split=0.2,callbacks=[ec , mc],verbose=1)\n"
      ],
      "execution_count": 47,
      "outputs": [
        {
          "output_type": "stream",
          "text": [
            "Model: \"Sentiment_Model\"\n",
            "_________________________________________________________________\n",
            "Layer (type)                 Output Shape              Param #   \n",
            "=================================================================\n",
            "embedding_6 (Embedding)      (None, 100, 100)          18529600  \n",
            "_________________________________________________________________\n",
            "bidirectional_18 (Bidirectio (None, 100, 400)          481600    \n",
            "_________________________________________________________________\n",
            "bidirectional_19 (Bidirectio (None, 100, 300)          661200    \n",
            "_________________________________________________________________\n",
            "bidirectional_20 (Bidirectio (None, 100, 200)          320800    \n",
            "_________________________________________________________________\n",
            "conv1d_6 (Conv1D)            (None, 96, 64)            64064     \n",
            "_________________________________________________________________\n",
            "global_max_pooling1d_6 (Glob (None, 64)                0         \n",
            "_________________________________________________________________\n",
            "dense_12 (Dense)             (None, 50)                3250      \n",
            "_________________________________________________________________\n",
            "dense_13 (Dense)             (None, 1)                 51        \n",
            "=================================================================\n",
            "Total params: 20,060,565\n",
            "Trainable params: 1,530,965\n",
            "Non-trainable params: 18,529,600\n",
            "_________________________________________________________________\n",
            "Epoch 1/30\n",
            "445/445 [==============================] - 127s 269ms/step - loss: 0.5477 - accuracy: 0.7129 - val_loss: 0.4970 - val_accuracy: 0.7444\n",
            "\n",
            "Epoch 00001: val_accuracy improved from -inf to 0.74437, saving model to best_model.h5\n",
            "Epoch 2/30\n",
            "445/445 [==============================] - 117s 264ms/step - loss: 0.4957 - accuracy: 0.7472 - val_loss: 0.4889 - val_accuracy: 0.7492\n",
            "\n",
            "Epoch 00002: val_accuracy improved from 0.74437 to 0.74916, saving model to best_model.h5\n",
            "Epoch 3/30\n",
            "445/445 [==============================] - 117s 264ms/step - loss: 0.4836 - accuracy: 0.7514 - val_loss: 0.4843 - val_accuracy: 0.7504\n",
            "\n",
            "Epoch 00003: val_accuracy improved from 0.74916 to 0.75042, saving model to best_model.h5\n",
            "Epoch 4/30\n",
            "445/445 [==============================] - 117s 264ms/step - loss: 0.4750 - accuracy: 0.7580 - val_loss: 0.4810 - val_accuracy: 0.7519\n",
            "\n",
            "Epoch 00004: val_accuracy improved from 0.75042 to 0.75190, saving model to best_model.h5\n",
            "Epoch 5/30\n",
            "445/445 [==============================] - 117s 264ms/step - loss: 0.4696 - accuracy: 0.7608 - val_loss: 0.4863 - val_accuracy: 0.7531\n",
            "\n",
            "Epoch 00005: val_accuracy improved from 0.75190 to 0.75313, saving model to best_model.h5\n",
            "Epoch 6/30\n",
            "445/445 [==============================] - 117s 264ms/step - loss: 0.4600 - accuracy: 0.7650 - val_loss: 0.4797 - val_accuracy: 0.7550\n",
            "\n",
            "Epoch 00006: val_accuracy improved from 0.75313 to 0.75499, saving model to best_model.h5\n",
            "Epoch 7/30\n",
            "445/445 [==============================] - 117s 263ms/step - loss: 0.4546 - accuracy: 0.7682 - val_loss: 0.4824 - val_accuracy: 0.7539\n",
            "\n",
            "Epoch 00007: val_accuracy did not improve from 0.75499\n",
            "Epoch 8/30\n",
            "445/445 [==============================] - 117s 263ms/step - loss: 0.4444 - accuracy: 0.7739 - val_loss: 0.4822 - val_accuracy: 0.7543\n",
            "\n",
            "Epoch 00008: val_accuracy did not improve from 0.75499\n",
            "Epoch 9/30\n",
            "445/445 [==============================] - 117s 263ms/step - loss: 0.4356 - accuracy: 0.7776 - val_loss: 0.4960 - val_accuracy: 0.7527\n",
            "\n",
            "Epoch 00009: val_accuracy did not improve from 0.75499\n",
            "Epoch 10/30\n",
            "445/445 [==============================] - 117s 263ms/step - loss: 0.4283 - accuracy: 0.7821 - val_loss: 0.4951 - val_accuracy: 0.7517\n",
            "\n",
            "Epoch 00010: val_accuracy did not improve from 0.75499\n",
            "Epoch 11/30\n",
            "445/445 [==============================] - 117s 263ms/step - loss: 0.4178 - accuracy: 0.7885 - val_loss: 0.4916 - val_accuracy: 0.7510\n",
            "\n",
            "Epoch 00011: val_accuracy did not improve from 0.75499\n",
            "Epoch 12/30\n",
            "445/445 [==============================] - 117s 263ms/step - loss: 0.4084 - accuracy: 0.7919 - val_loss: 0.5089 - val_accuracy: 0.7504\n",
            "\n",
            "Epoch 00012: val_accuracy did not improve from 0.75499\n",
            "Epoch 13/30\n",
            "445/445 [==============================] - 117s 263ms/step - loss: 0.3948 - accuracy: 0.7993 - val_loss: 0.5134 - val_accuracy: 0.7494\n",
            "\n",
            "Epoch 00013: val_accuracy did not improve from 0.75499\n",
            "Epoch 14/30\n",
            "445/445 [==============================] - 117s 263ms/step - loss: 0.3854 - accuracy: 0.8041 - val_loss: 0.5225 - val_accuracy: 0.7493\n",
            "\n",
            "Epoch 00014: val_accuracy did not improve from 0.75499\n",
            "Epoch 15/30\n",
            "445/445 [==============================] - 117s 263ms/step - loss: 0.3753 - accuracy: 0.8108 - val_loss: 0.5142 - val_accuracy: 0.7437\n",
            "\n",
            "Epoch 00015: val_accuracy did not improve from 0.75499\n",
            "Epoch 16/30\n",
            "445/445 [==============================] - 117s 263ms/step - loss: 0.3659 - accuracy: 0.8147 - val_loss: 0.5480 - val_accuracy: 0.7457\n",
            "\n",
            "Epoch 00016: val_accuracy did not improve from 0.75499\n",
            "Epoch 17/30\n",
            "445/445 [==============================] - 117s 263ms/step - loss: 0.3569 - accuracy: 0.8199 - val_loss: 0.5630 - val_accuracy: 0.7418\n",
            "\n",
            "Epoch 00017: val_accuracy did not improve from 0.75499\n",
            "Epoch 18/30\n",
            "445/445 [==============================] - 117s 263ms/step - loss: 0.3496 - accuracy: 0.8237 - val_loss: 0.5643 - val_accuracy: 0.7416\n",
            "\n",
            "Epoch 00018: val_accuracy did not improve from 0.75499\n",
            "Epoch 19/30\n",
            "445/445 [==============================] - 117s 263ms/step - loss: 0.3407 - accuracy: 0.8274 - val_loss: 0.5774 - val_accuracy: 0.7365\n",
            "\n",
            "Epoch 00019: val_accuracy did not improve from 0.75499\n",
            "Epoch 20/30\n",
            "445/445 [==============================] - 117s 263ms/step - loss: 0.3353 - accuracy: 0.8309 - val_loss: 0.5852 - val_accuracy: 0.7371\n",
            "\n",
            "Epoch 00020: val_accuracy did not improve from 0.75499\n",
            "Epoch 21/30\n",
            "445/445 [==============================] - 117s 263ms/step - loss: 0.3271 - accuracy: 0.8334 - val_loss: 0.5986 - val_accuracy: 0.7389\n",
            "\n",
            "Epoch 00021: val_accuracy did not improve from 0.75499\n",
            "Epoch 22/30\n",
            "445/445 [==============================] - 117s 263ms/step - loss: 0.3183 - accuracy: 0.8409 - val_loss: 0.6198 - val_accuracy: 0.7398\n",
            "\n",
            "Epoch 00022: val_accuracy did not improve from 0.75499\n",
            "Epoch 23/30\n",
            "445/445 [==============================] - 117s 263ms/step - loss: 0.3112 - accuracy: 0.8447 - val_loss: 0.6224 - val_accuracy: 0.7361\n",
            "\n",
            "Epoch 00023: val_accuracy did not improve from 0.75499\n",
            "Epoch 24/30\n",
            "445/445 [==============================] - 117s 263ms/step - loss: 0.3068 - accuracy: 0.8466 - val_loss: 0.6364 - val_accuracy: 0.7358\n",
            "\n",
            "Epoch 00024: val_accuracy did not improve from 0.75499\n",
            "Epoch 25/30\n",
            "445/445 [==============================] - 117s 263ms/step - loss: 0.3034 - accuracy: 0.8503 - val_loss: 0.6548 - val_accuracy: 0.7347\n",
            "\n",
            "Epoch 00025: val_accuracy did not improve from 0.75499\n",
            "Epoch 26/30\n",
            "445/445 [==============================] - 117s 263ms/step - loss: 0.2928 - accuracy: 0.8552 - val_loss: 0.6589 - val_accuracy: 0.7361\n",
            "\n",
            "Epoch 00026: val_accuracy did not improve from 0.75499\n",
            "Epoch 27/30\n",
            "445/445 [==============================] - 117s 263ms/step - loss: 0.2904 - accuracy: 0.8549 - val_loss: 0.6723 - val_accuracy: 0.7354\n",
            "\n",
            "Epoch 00027: val_accuracy did not improve from 0.75499\n",
            "Epoch 28/30\n",
            "445/445 [==============================] - 117s 263ms/step - loss: 0.2842 - accuracy: 0.8603 - val_loss: 0.6702 - val_accuracy: 0.7328\n",
            "\n",
            "Epoch 00028: val_accuracy did not improve from 0.75499\n",
            "Epoch 29/30\n",
            "445/445 [==============================] - 117s 263ms/step - loss: 0.2813 - accuracy: 0.8619 - val_loss: 0.7008 - val_accuracy: 0.7327\n",
            "\n",
            "Epoch 00029: val_accuracy did not improve from 0.75499\n",
            "Epoch 30/30\n",
            "445/445 [==============================] - 117s 263ms/step - loss: 0.2770 - accuracy: 0.8649 - val_loss: 0.6825 - val_accuracy: 0.7304\n",
            "\n",
            "Epoch 00030: val_accuracy did not improve from 0.75499\n"
          ],
          "name": "stdout"
        }
      ]
    },
    {
      "cell_type": "code",
      "metadata": {
        "colab": {
          "base_uri": "https://localhost:8080/"
        },
        "id": "DjSgYveEZPuo",
        "outputId": "2fdf3efd-c4cd-450a-d772-4fa0a6f9ec5d"
      },
      "source": [
        "from keras import models \n",
        "saved_model = models.load_model('best_model.h5')\n",
        "_, train_acc = saved_model.evaluate(X_train, y_train, verbose=0)\n",
        "_, test_acc = saved_model.evaluate(X_test, y_test, verbose=0)\n",
        "print('Train: %.3f, Test: %.3f' % (train_acc, test_acc))"
      ],
      "execution_count": 46,
      "outputs": [
        {
          "output_type": "stream",
          "text": [
            "Train: 0.765, Test: 0.755\n"
          ],
          "name": "stdout"
        }
      ]
    },
    {
      "cell_type": "code",
      "metadata": {
        "id": "7NWB0FLY_AEC"
      },
      "source": [
        "import matplotlib.pyplot as plt\n",
        "\n",
        "acc_1,  val_acc_1  = history.history['accuracy'], history.history['val_accuracy']\n",
        "loss_1, val_loss_1 = history.history['loss'], history.history['val_loss']\n",
        "epochs = range(len(acc_1))\n",
        "plt.plot(epochs, acc_1, 'c', label='Train_acc')\n",
        "plt.plot(epochs, val_acc_1, 'b', label='Val_acc')\n",
        "plt.title('Accuracy')\n",
        "plt.legend()\n",
        "plt.figure()\n",
        "plt.plot(epochs, loss_1, 'c', label='Train_loss')\n",
        "plt.plot(epochs, val_loss_1, 'b', label='Val_loss')\n",
        "plt.title('Loss')\n",
        "plt.legend()"
      ],
      "execution_count": null,
      "outputs": []
    },
    {
      "cell_type": "code",
      "metadata": {
        "colab": {
          "base_uri": "https://localhost:8080/"
        },
        "id": "yfu18Rlu_Dxa",
        "outputId": "dde33885-31b7-414a-980f-e037592f43d0"
      },
      "source": [
        "score = model_bilstm.evaluate(X_test, y_test, batch_size=512)\n",
        "print(\"ACCURACY:\",score[1])\n",
        "print(\"LOSS:\",score[0])"
      ],
      "execution_count": null,
      "outputs": [
        {
          "output_type": "stream",
          "text": [
            "1094/1094 [==============================] - 30s 27ms/step - loss: 0.3705 - accuracy: 0.8379\n",
            "ACCURACY: 0.8379428386688232\n",
            "LOSS: 0.3704540431499481\n"
          ],
          "name": "stdout"
        }
      ]
    },
    {
      "cell_type": "code",
      "metadata": {
        "colab": {
          "base_uri": "https://localhost:8080/"
        },
        "id": "GjSeQifIMqTV",
        "outputId": "01fbb601-c224-475e-9af4-ec0dc70c170c"
      },
      "source": [
        "from sklearn.metrics import confusion_matrix, classification_report\n",
        "y_pred = model_bilstm.predict(X_test)\n",
        "y_pred\n"
      ],
      "execution_count": null,
      "outputs": [
        {
          "output_type": "execute_result",
          "data": {
            "text/plain": [
              "array([[0.8740851 ],\n",
              "       [0.47815245],\n",
              "       [0.00401276],\n",
              "       ...,\n",
              "       [0.99794036],\n",
              "       [0.02634604],\n",
              "       [0.05124794]], dtype=float32)"
            ]
          },
          "metadata": {
            "tags": []
          },
          "execution_count": 49
        }
      ]
    },
    {
      "cell_type": "code",
      "metadata": {
        "id": "qlk_OeYSMYSu"
      },
      "source": [
        "for n, i in enumerate(y_pred):\n",
        "  if i >= .5:\n",
        "    y_pred[n] = 1\n",
        "  else:\n",
        "    y_pred[n] = 0  "
      ],
      "execution_count": null,
      "outputs": []
    },
    {
      "cell_type": "code",
      "metadata": {
        "colab": {
          "base_uri": "https://localhost:8080/"
        },
        "id": "b09NbsnhNdRM",
        "outputId": "b1eceaff-4a4f-40de-f0c8-de36113c471b"
      },
      "source": [
        "y_pred"
      ],
      "execution_count": null,
      "outputs": [
        {
          "output_type": "execute_result",
          "data": {
            "text/plain": [
              "array([[1.],\n",
              "       [0.],\n",
              "       [0.],\n",
              "       ...,\n",
              "       [1.],\n",
              "       [0.],\n",
              "       [0.]], dtype=float32)"
            ]
          },
          "metadata": {
            "tags": []
          },
          "execution_count": 51
        }
      ]
    },
    {
      "cell_type": "code",
      "metadata": {
        "colab": {
          "base_uri": "https://localhost:8080/"
        },
        "id": "C7O6N9P3_N_k",
        "outputId": "9e125a63-5398-4d71-c0d4-85d4654d6fca"
      },
      "source": [
        "print(classification_report(y_test.values, y_pred))"
      ],
      "execution_count": null,
      "outputs": [
        {
          "output_type": "stream",
          "text": [
            "              precision    recall  f1-score   support\n",
            "\n",
            "           0       0.83      0.84      0.84    280000\n",
            "           1       0.84      0.83      0.84    280000\n",
            "\n",
            "    accuracy                           0.84    560000\n",
            "   macro avg       0.84      0.84      0.84    560000\n",
            "weighted avg       0.84      0.84      0.84    560000\n",
            "\n"
          ],
          "name": "stdout"
        }
      ]
    },
    {
      "cell_type": "code",
      "metadata": {
        "colab": {
          "base_uri": "https://localhost:8080/",
          "height": 340
        },
        "id": "xTzrisMLKQAp",
        "outputId": "45855603-0258-48d7-937a-7e622885276a"
      },
      "source": [
        "import seaborn as sns\n",
        "import matplotlib.pyplot as plt\n",
        "categories  = ['Negative','Positive']\n",
        "matrix=confusion_matrix(y_test.values, y_pred)\n",
        "sns.heatmap(matrix,annot = matrix,fmt = '', xticklabels = categories, yticklabels = categories)\n",
        "plt.xlabel(\"Predicted values\", fontdict = {'size':14}, labelpad = 10)\n",
        "plt.ylabel(\"Actual values\"   , fontdict = {'size':14}, labelpad = 10)\n",
        "plt.title (\"Confusion Matrix\", fontdict = {'size':18}, pad = 20)\n"
      ],
      "execution_count": null,
      "outputs": [
        {
          "output_type": "execute_result",
          "data": {
            "text/plain": [
              "Text(0.5, 1.0, 'Confusion Matrix')"
            ]
          },
          "metadata": {
            "tags": []
          },
          "execution_count": 55
        },
        {
          "output_type": "display_data",
          "data": {
            "image/png": "[encoded data removed]",
            "text/plain": [
              "<Figure size 432x288 with 2 Axes>"
            ]
          },
          "metadata": {
            "tags": [],
            "needs_background": "light"
          }
        }
      ]
    },
    {
      "cell_type": "code",
      "metadata": {
        "id": "wOkzfXx0LFWU"
      },
      "source": [
        ""
      ],
      "execution_count": null,
      "outputs": []
    },
    {
      "cell_type": "code",
      "metadata": {
        "id": "W0p-B8_pLP8Q"
      },
      "source": [
        ""
      ],
      "execution_count": null,
      "outputs": []
    }
  ]
}